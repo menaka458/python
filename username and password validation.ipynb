{
 "cells": [
  {
   "cell_type": "markdown",
   "metadata": {},
   "source": [
    "# program to validate username and password"
   ]
  },
  {
   "cell_type": "code",
   "execution_count": 2,
   "metadata": {},
   "outputs": [
    {
     "name": "stdout",
     "output_type": "stream",
     "text": [
      "USERNAME : ruby\n",
      "PASSWORD : ········\n",
      "\n",
      "password is incorrect\n",
      "\n",
      "USERNAME : ruby\n",
      "PASSWORD : ········\n",
      "\n",
      "password is incorrect\n",
      "\n",
      "\n",
      "Maximum attempts exceeded\n",
      "\n",
      "Try after  0  seconds  \n",
      "\n",
      "Try Now\n",
      "\n",
      "USERNAME : ruby\n",
      "PASSWORD : ········\n",
      "\n",
      "YOU HAVE SUCCESSFULLY LOGGED IN\n",
      "\n"
     ]
    }
   ],
   "source": [
    "import getpass\n",
    "import time\n",
    "\n",
    "#dictionary of user's credentials\n",
    "credentials = {\n",
    "    \"ruby\" : [\"def456\"], \"kotlin\" : \"ghi789\", \"java\" : \"jkl012\", \"flutter\" : \"mno345\",\"python\" : [\"abc123\"]\n",
    "}\n",
    " \n",
    "#no. of attempts by user\n",
    "count = 0\n",
    "\n",
    "while(1):\n",
    "    \n",
    "    #check for maximum attempts\n",
    "    if count >= 2:\n",
    "        print(\"\\nMaximum attempts exceeded\\n\")\n",
    "        \n",
    "        for i in range(10,-1,-1):\n",
    "            print(\"\\rTry after \",i,\" seconds\",end=\" \")\n",
    "            time.sleep(1)\n",
    "        print(\"\\n\\nTry Now\\n\")  \n",
    "        #time.sleep(10)\n",
    "        count=0\n",
    "\n",
    "     \n",
    "    username = input(\"USERNAME : \").rstrip()\n",
    "    \n",
    "    #check if username is empty\n",
    "    if len(username) == 0:\n",
    "        print(\"\\nusername in empty!!\\n\")\n",
    "        continue\n",
    "        \n",
    "    #check if username exists\n",
    "    if username in credentials.keys():\n",
    "        \n",
    "        password = getpass.getpass(prompt=\"PASSWORD : \")\n",
    "        count+=1\n",
    "        \n",
    "        #check if password is correct\n",
    "        if password in credentials[username]:\n",
    "            print(\"\\nYOU HAVE SUCCESSFULLY LOGGED IN\\n\")\n",
    "            break;\n",
    "            \n",
    "        else:\n",
    "            print(\"\\npassword is incorrect\\n\")\n",
    "    \n",
    "    else:\n",
    "        print(\"\\nusername doesn't exist\\n\")\n",
    "        \n",
    "            \n"
   ]
  }
 ],
 "metadata": {
  "kernelspec": {
   "display_name": "Python 3",
   "language": "python",
   "name": "python3"
  },
  "language_info": {
   "codemirror_mode": {
    "name": "ipython",
    "version": 3
   },
   "file_extension": ".py",
   "mimetype": "text/x-python",
   "name": "python",
   "nbconvert_exporter": "python",
   "pygments_lexer": "ipython3",
   "version": "3.7.1"
  }
 },
 "nbformat": 4,
 "nbformat_minor": 2
}
